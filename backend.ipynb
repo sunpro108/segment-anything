{
 "cells": [
  {
   "cell_type": "code",
   "execution_count": 1,
   "id": "f4a8ffd4-cd3b-4090-8650-a82152c22ee1",
   "metadata": {
    "tags": []
   },
   "outputs": [
    {
     "name": "stdout",
     "output_type": "stream",
     "text": [
      "PyTorch version: 2.0.0+cu117\n",
      "Torchvision version: 0.15.1+cu117\n",
      "CUDA is available: True\n"
     ]
    }
   ],
   "source": [
    "import os\n",
    "import argparse\n",
    "from typing import Optional\n",
    "\n",
    "import cv2\n",
    "import numpy as np\n",
    "from PIL import Image\n",
    "import torch\n",
    "import torch.backends.cudnn as cudnn\n",
    "import torch.optim\n",
    "import torch.utils.data\n",
    "import torchvision\n",
    "print(\"PyTorch version:\", torch.__version__)\n",
    "print(\"Torchvision version:\", torchvision.__version__)\n",
    "print(\"CUDA is available:\", torch.cuda.is_available())"
   ]
  },
  {
   "cell_type": "code",
   "execution_count": 2,
   "id": "52d8b586-d6cf-444d-8a72-4785de56a035",
   "metadata": {
    "tags": []
   },
   "outputs": [],
   "source": [
    "from segment_anything import sam_model_registry, SamPredictor\n",
    "\n",
    "os.environ['TORCH_HOME'] = '/sunjinsheng/home_torch'\n",
    "\n",
    "class SAM():\n",
    "    def __init__(self, model_type, sam_ckpt, device='cuda') -> None:\n",
    "        # cudnn related setting\n",
    "        self.sam = sam_model_registry[model_type](checkpoint=sam_checkpoint)\n",
    "        self.sam.to(device=device)\n",
    "\n",
    "        self.predictor = SamPredictor(self.sam)\n",
    "        \n",
    "    def set_image(self, image):\n",
    "        timer_start = torch.cuda.Event(enable_timing=True)\n",
    "        timer_end = torch.cuda.Event(enable_timing=True)\n",
    "        timer_start.record()\n",
    "        self.predictor.set_image(image)\n",
    "        timer_end.record()\n",
    "        torch.cuda.synchronize()\n",
    "\n",
    "        return timer_start.elapsed_time(timer_end)\n",
    "\n",
    "    def get_masks(\n",
    "        self, \n",
    "        point_coords: Optional[np.ndarray] = None,\n",
    "        point_labels: Optional[np.ndarray] = None,\n",
    "        box: Optional[np.ndarray] = None,\n",
    "        mask_input: Optional[np.ndarray] = None,\n",
    "        multimask_output: bool = True,\n",
    "        return_logits: bool = False,\n",
    "    ):\n",
    "        timer_start = torch.cuda.Event(enable_timing=True)\n",
    "        timer_end = torch.cuda.Event(enable_timing=True)\n",
    "        timer_start.record()\n",
    "        masks, scores, logits = self.predictor.predict(\n",
    "            point_coords=point_coords,\n",
    "            point_labels=point_labels,\n",
    "            box=box,\n",
    "            mask_input=mask_input,\n",
    "            multimask_output=multimask_output,\n",
    "            return_logits=return_logits,\n",
    "        )\n",
    "        timer_end.record()\n",
    "        return masks, scores, logits, timer_start.elapsed_time(timer_end)"
   ]
  },
  {
   "cell_type": "code",
   "execution_count": 3,
   "id": "bfb468da-b33a-407d-b676-1ee990e5f385",
   "metadata": {
    "tags": []
   },
   "outputs": [],
   "source": [
    "sam_checkpoint = \"/sun/home_models/sam/sam_vit_h_4b8939.pth\"\n",
    "model_type = \"vit_h\"\n",
    "device = \"cuda\"\n",
    "sam = SAM(model_type,sam_checkpoint,device='cuda')"
   ]
  },
  {
   "cell_type": "code",
   "execution_count": 4,
   "id": "3e22c9c6-a5b0-4e7d-80bb-f040695e2b34",
   "metadata": {
    "tags": []
   },
   "outputs": [
    {
     "data": {
      "text/plain": [
       "3520.907470703125"
      ]
     },
     "execution_count": 4,
     "metadata": {},
     "output_type": "execute_result"
    }
   ],
   "source": [
    "image = cv2.imread('notebooks/images/truck.jpg')\n",
    "image = cv2.cvtColor(image, cv2.COLOR_BGR2RGB)\n",
    "sam.set_image(image)"
   ]
  },
  {
   "cell_type": "code",
   "execution_count": 5,
   "id": "93293f01-1310-4845-8346-a32453b2eb35",
   "metadata": {
    "tags": []
   },
   "outputs": [],
   "source": [
    "input_point = np.array([[500, 375]])\n",
    "input_label = np.array([1])\n",
    "\n",
    "masks, scores, logits = sam.predictor.predict(\n",
    "    point_coords=input_point,\n",
    "    point_labels=input_label,\n",
    "    multimask_output=True,\n",
    ")"
   ]
  },
  {
   "cell_type": "code",
   "execution_count": 6,
   "id": "9c51d55e-c396-4065-93a7-d70e79faadae",
   "metadata": {
    "tags": []
   },
   "outputs": [],
   "source": [
    "from flask import request, Flask\n",
    "import os\n",
    "import cv2\n",
    "import time\n",
    "import base64\n",
    "import numpy as np\n",
    "app = Flask(__name__)\t# 必须要写\n",
    "\n",
    "TYPE_IMAGE = 1\n",
    "TYPE_INTERACTION = 2\n",
    "\n",
    "@app.route(\"/\", methods=['POST'])\t\n",
    "def get_frame():\t# 客户端通过端口访问的时候，会直接调用这个函数\n",
    "    flag = int(request.form.get('flag'))\n",
    "    # print(flag,type(flag))\n",
    "#     print(request.form.get('img'))\n",
    "    if TYPE_IMAGE == flag: \n",
    "        img_encode = request.form.get('img')\n",
    "        img = base64.b64decode(img_encode.encode('utf-8'))\n",
    "        # print(img)\n",
    "        image_data = np.frombuffer(img, np.uint8)\n",
    "        # print(image_data)\n",
    "        image_data = cv2.imdecode(image_data, cv2.IMREAD_COLOR)\n",
    "        # print(type(image_data))\n",
    "        # time_start = time.time()\n",
    "        # try:\n",
    "        time_used = sam.set_image(image_data)\t# 图像处理入口\n",
    "        # except Exception as e:\n",
    "        #     return str(dict(flag=0))\n",
    "        # else:\n",
    "        return str(dict(flag=1,time_used=time_used))\n",
    "        # time_end = time.time()\n",
    "        # print(time_end-time_start)\n",
    "    elif TYPE_INTERACTION == flag:\n",
    "        data_point_coords = request.form.get('point_coords')\n",
    "        data_point_labels = request.form.get('point_labels')\n",
    "        data_point_coords = base64.b64decode(data_point_coords.encode('utf-8'))\n",
    "        data_point_labels = base64.b64decode(data_point_labels.encode('utf-8'))\n",
    "        point_coords = np.frombuffer(data_point_coords, dtype=np.int32).reshape((-1,2))\n",
    "        point_labels = np.frombuffer(data_point_labels, dtype=np.bool8).reshape([-1])\n",
    "        data_multimask_output = request.form.get('multimask_output')\n",
    "        multimask_output = bool(int(data_multimask_output))\n",
    "        # print(point_coords.shape)\n",
    "        # print(point_labels.shape)\n",
    "        # data_box = request.form.get('box')\n",
    "        # data_box = base64.b64decode(data_box.encode('utf-8'))\n",
    "        # data_mask_input = request.form.get('mask_input')\n",
    "        # data_mask_input = base64.b64decode(data_mask_input.encode('utf-8'))\n",
    "        # data_return_logits = request.form.get('return_logits')\n",
    "        # print(data_point_coords)\n",
    "        masks, scores, logits,time_used = sam.get_masks(\n",
    "            point_coords=point_coords,\n",
    "            point_labels=point_labels,\n",
    "            multimask_output=multimask_output,\n",
    "        )\n",
    "        data_masks = masks.tobytes() # np.bool8\n",
    "        data_masks = base64.b64encode(data_masks).decode('utf-8')\n",
    "        data_scores = scores.tobytes() # np.float32\n",
    "        data_scores = base64.b64encode(data_scores).decode('utf-8')\n",
    "        data_logits = logits.tobytes() # np.float32\n",
    "        data_logits = base64.b64encode(data_logits).decode('utf-8')\n",
    "        return str(dict(\n",
    "            flag=2,\n",
    "            masks = data_masks,\n",
    "            scores = data_scores, \n",
    "            logits = data_logits,\n",
    "            time_used = time_used,\n",
    "        ))\n",
    "    return '0'"
   ]
  },
  {
   "cell_type": "code",
   "execution_count": null,
   "id": "3a9fb61e-884b-4063-8c5f-05080fe8ebb8",
   "metadata": {
    "tags": []
   },
   "outputs": [
    {
     "name": "stdout",
     "output_type": "stream",
     "text": [
      " * Serving Flask app '__main__'\n",
      " * Debug mode: off\n"
     ]
    },
    {
     "name": "stderr",
     "output_type": "stream",
     "text": [
      "\u001b[31m\u001b[1mWARNING: This is a development server. Do not use it in a production deployment. Use a production WSGI server instead.\u001b[0m\n",
      " * Running on all addresses (0.0.0.0)\n",
      " * Running on http://127.0.0.1:11083\n",
      " * Running on http://172.17.0.3:11083\n",
      "\u001b[33mPress CTRL+C to quit\u001b[0m\n",
      "172.17.0.1 - - [26/Apr/2023 18:29:35] \"POST / HTTP/1.1\" 200 -\n",
      "/sunjinsheng/onepiece/segment-anything/segment_anything/predictor.py:144: UserWarning: The given NumPy array is not writable, and PyTorch does not support non-writable tensors. This means writing to this tensor will result in undefined behavior. You may want to copy the array to protect its data or make it writable before converting it to a tensor. This type of warning will be suppressed for the rest of this program. (Triggered internally at ../torch/csrc/utils/tensor_numpy.cpp:206.)\n",
      "  labels_torch = torch.as_tensor(point_labels, dtype=torch.int, device=self.device)\n",
      "172.17.0.1 - - [26/Apr/2023 18:29:40] \"POST / HTTP/1.1\" 200 -\n",
      "172.17.0.1 - - [26/Apr/2023 18:29:43] \"POST / HTTP/1.1\" 200 -\n",
      "172.17.0.1 - - [26/Apr/2023 18:30:26] \"POST / HTTP/1.1\" 200 -\n",
      "172.17.0.1 - - [26/Apr/2023 18:30:29] \"POST / HTTP/1.1\" 200 -\n",
      "172.17.0.1 - - [26/Apr/2023 18:30:31] \"POST / HTTP/1.1\" 200 -\n"
     ]
    }
   ],
   "source": [
    "if __name__ == \"__main__\":\n",
    "    \n",
    "    # str_port = os.getenv('PAI_CONTAINER_HOST_http_face3_PORT_LIST')\n",
    "    app.run(\"0.0.0.0\", port=11083)\t# 设置IP和端口"
   ]
  }
 ],
 "metadata": {
  "kernelspec": {
   "display_name": "Python 3 (ipykernel)",
   "language": "python",
   "name": "python3"
  },
  "language_info": {
   "codemirror_mode": {
    "name": "ipython",
    "version": 3
   },
   "file_extension": ".py",
   "mimetype": "text/x-python",
   "name": "python",
   "nbconvert_exporter": "python",
   "pygments_lexer": "ipython3",
   "version": "3.10.10"
  }
 },
 "nbformat": 4,
 "nbformat_minor": 5
}
