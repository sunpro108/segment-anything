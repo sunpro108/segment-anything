{
 "cells": [
  {
   "cell_type": "code",
   "execution_count": null,
   "id": "164f0dae-ee9b-4735-afe9-765825f36dc8",
   "metadata": {
    "tags": []
   },
   "outputs": [
    {
     "name": "stdout",
     "output_type": "stream",
     "text": [
      " * Serving Flask app '__main__'\n",
      " * Debug mode: off\n"
     ]
    },
    {
     "name": "stderr",
     "output_type": "stream",
     "text": [
      "\u001b[31m\u001b[1mWARNING: This is a development server. Do not use it in a production deployment. Use a production WSGI server instead.\u001b[0m\n",
      " * Running on all addresses (0.0.0.0)\n",
      " * Running on http://127.0.0.1:11108\n",
      " * Running on http://172.17.0.2:11108\n",
      "\u001b[33mPress CTRL+C to quit\u001b[0m\n",
      "[2023-04-19 03:46:41,689] ERROR in app: Exception on /data [POST]\n",
      "Traceback (most recent call last):\n",
      "  File \"/usr/local/lib/python3.10/dist-packages/flask/app.py\", line 2528, in wsgi_app\n",
      "    response = self.full_dispatch_request()\n",
      "  File \"/usr/local/lib/python3.10/dist-packages/flask/app.py\", line 1826, in full_dispatch_request\n",
      "    return self.finalize_request(rv)\n",
      "  File \"/usr/local/lib/python3.10/dist-packages/flask/app.py\", line 1845, in finalize_request\n",
      "    response = self.make_response(rv)\n",
      "  File \"/usr/local/lib/python3.10/dist-packages/flask/app.py\", line 2137, in make_response\n",
      "    raise TypeError(\n",
      "TypeError: The view function for 'get_data' did not return a valid response. The function either returned None or ended without a return statement.\n",
      "172.17.0.1 - - [19/Apr/2023 03:46:41] \"\u001b[35m\u001b[1mPOST /data HTTP/1.1\u001b[0m\" 500 -\n"
     ]
    },
    {
     "name": "stdout",
     "output_type": "stream",
     "text": [
      "type: <class 'NoneType'>\n"
     ]
    },
    {
     "name": "stderr",
     "output_type": "stream",
     "text": [
      "[2023-04-19 03:47:39,164] ERROR in app: Exception on /data [POST]\n",
      "Traceback (most recent call last):\n",
      "  File \"/usr/local/lib/python3.10/dist-packages/flask/app.py\", line 2528, in wsgi_app\n",
      "    response = self.full_dispatch_request()\n",
      "  File \"/usr/local/lib/python3.10/dist-packages/flask/app.py\", line 1826, in full_dispatch_request\n",
      "    return self.finalize_request(rv)\n",
      "  File \"/usr/local/lib/python3.10/dist-packages/flask/app.py\", line 1845, in finalize_request\n",
      "    response = self.make_response(rv)\n",
      "  File \"/usr/local/lib/python3.10/dist-packages/flask/app.py\", line 2137, in make_response\n",
      "    raise TypeError(\n",
      "TypeError: The view function for 'get_data' did not return a valid response. The function either returned None or ended without a return statement.\n",
      "172.17.0.1 - - [19/Apr/2023 03:47:39] \"\u001b[35m\u001b[1mPOST /data HTTP/1.1\u001b[0m\" 500 -\n"
     ]
    },
    {
     "name": "stdout",
     "output_type": "stream",
     "text": [
      "type: <class 'NoneType'>\n"
     ]
    }
   ],
   "source": [
    "from flask import request, Flask\n",
    "import os\n",
    "import time\n",
    "import base64\n",
    "import numpy as np\n",
    "app = Flask(__name__)\t# 必须要写\n",
    "\n",
    "TYPE_IMAGE = 1\n",
    "TYPE_INTERACTION = 2\n",
    "\n",
    "@app.route(\"/data\", methods=['POST'])\t\n",
    "def get_data():\n",
    "    data = request.form.get('data')\n",
    "    print('type:', type(data))\n",
    "    return data\n",
    "\n",
    "if __name__ == \"__main__\":\n",
    "    \n",
    "    # str_port = os.getenv('PAI_CONTAINER_HOST_http_face3_PORT_LIST')\n",
    "    app.run(\"0.0.0.0\", port=11108)\t# 设置IP和端口"
   ]
  }
 ],
 "metadata": {
  "kernelspec": {
   "display_name": "Python 3 (ipykernel)",
   "language": "python",
   "name": "python3"
  },
  "language_info": {
   "codemirror_mode": {
    "name": "ipython",
    "version": 3
   },
   "file_extension": ".py",
   "mimetype": "text/x-python",
   "name": "python",
   "nbconvert_exporter": "python",
   "pygments_lexer": "ipython3",
   "version": "3.10.10"
  }
 },
 "nbformat": 4,
 "nbformat_minor": 5
}
